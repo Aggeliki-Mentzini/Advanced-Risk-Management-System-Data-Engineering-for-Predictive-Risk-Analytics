{
  "nbformat": 4,
  "nbformat_minor": 0,
  "metadata": {
    "colab": {
      "private_outputs": true,
      "provenance": [],
      "authorship_tag": "ABX9TyPBSH49GCft5UDp+o9fbzOp",
      "include_colab_link": true
    },
    "kernelspec": {
      "name": "python3",
      "display_name": "Python 3"
    },
    "language_info": {
      "name": "python"
    }
  },
  "cells": [
    {
      "cell_type": "markdown",
      "metadata": {
        "id": "view-in-github",
        "colab_type": "text"
      },
      "source": [
        "<a href=\"https://colab.research.google.com/github/Aggeliki-Mentzini/Advanced-Risk-Management-System-Data-Engineering-for-Predictive-Risk-Analytics/blob/main/Untitled21.ipynb\" target=\"_parent\"><img src=\"https://colab.research.google.com/assets/colab-badge.svg\" alt=\"Open In Colab\"/></a>"
      ]
    },
    {
      "cell_type": "code",
      "execution_count": null,
      "metadata": {
        "id": "LWd-j0Or_lZb"
      },
      "outputs": [],
      "source": [
        "import numpy as np\n",
        "import matplotlib.pyplot as plt\n",
        "\n",
        "# Define the transformation matrix (must be diagonalizable)\n",
        "A = np.array([[3, 1],\n",
        "              [0, 2]])\n",
        "\n",
        "# Calculate eigenvalues and eigenvectors\n",
        "eigvals, eigvecs = np.linalg.eig(A)\n",
        "\n",
        "# Original vector grid\n",
        "X, Y = np.meshgrid(np.arange(-5, 6), np.arange(-5, 6))\n",
        "grid_vectors = np.vstack([X.flatten(), Y.flatten()])\n",
        "\n",
        "# Apply transformation\n",
        "transformed_vectors = A @ grid_vectors\n",
        "\n",
        "# Plotting function\n",
        "def plot_vectors(original, transformed, eigvecs, title):\n",
        "    fig, ax = plt.subplots(figsize=(8, 8))\n",
        "    ax.quiver(*original, *(transformed - original), angles='xy', scale_units='xy', scale=1, color='lightblue', label='Transformed vectors')\n",
        "\n",
        "    # Plot eigenvectors\n",
        "    for vec in eigvecs.T:\n",
        "        ax.quiver(0, 0, vec[0]*5, vec[1]*5, angles='xy', scale_units='xy', scale=1, linewidth=2, color='red', label='Eigenvectors')\n",
        "\n",
        "    ax.set_xlim(-10, 10)\n",
        "    ax.set_ylim(-10, 10)\n",
        "    ax.axhline(0, color='black', linewidth=0.5)\n",
        "    ax.axvline(0, color='black', linewidth=0.5)\n",
        "    ax.set_aspect('equal', adjustable='box')\n",
        "    ax.set_title(title)\n",
        "    ax.legend(['Transformed vectors', 'Eigenvectors'])\n",
        "    plt.grid()\n",
        "    plt.show()\n",
        "\n",
        "# Visualize original and transformed vectors with eigenvectors\n",
        "plot_vectors(grid_vectors, transformed_vectors, eigvecs, 'Diagonalization Visualized (Geometric Interpretation)')\n"
      ]
    },
    {
      "cell_type": "code",
      "source": [
        "import numpy as np\n",
        "import matplotlib.pyplot as plt\n",
        "\n",
        "# Νέος πίνακας μετασχηματισμού (διαγωνοποιήσιμος)\n",
        "A = np.array([[4, 2],\n",
        "              [1, 3]])\n",
        "\n",
        "# Υπολογισμός ιδιοτιμών και ιδιοδιανυσμάτων\n",
        "eigvals, eigvecs = np.linalg.eig(A)\n",
        "\n",
        "# Δημιουργία αρχικού πλέγματος σημείων\n",
        "X, Y = np.meshgrid(np.linspace(-5, 5, 20), np.linspace(-5, 5, 20))\n",
        "original_vectors = np.vstack([X.flatten(), Y.flatten()])\n",
        "\n",
        "# Εφαρμογή μετασχηματισμού\n",
        "transformed_vectors = A @ original_vectors\n",
        "\n",
        "# Σχεδίαση της γεωμετρικής απεικόνισης\n",
        "plt.figure(figsize=(8, 8))\n",
        "plt.quiver(original_vectors[0], original_vectors[1],\n",
        "           transformed_vectors[0] - original_vectors[0],\n",
        "           transformed_vectors[1] - original_vectors[1],\n",
        "           color='skyblue', angles='xy', scale_units='xy', scale=1)\n",
        "\n",
        "# Σχεδίαση ιδιοδιανυσμάτων\n",
        "for vec in eigvecs.T:\n",
        "    plt.quiver(0, 0, vec[0]*5, vec[1]*5, color='red', angles='xy', scale_units='xy', scale=1.0, width=0.015)\n",
        "\n",
        "plt.title('Γεωμετρική Αναπαράσταση Διαγωνοποίησης\\n(Μετασχηματισμός και Ιδιοδιανύσματα)')\n",
        "plt.xlabel('X')\n",
        "plt.ylabel('Y')\n",
        "plt.axhline(0, color='black', linewidth=0.5)\n",
        "plt.axvline(0, color='black', linewidth=0.5)\n",
        "plt.grid(True)\n",
        "plt.axis('equal')\n",
        "plt.show()\n"
      ],
      "metadata": {
        "id": "q9n1biAr_o12"
      },
      "execution_count": null,
      "outputs": []
    },
    {
      "cell_type": "code",
      "source": [
        "# prompt: diagonalization and visual of A = np.array([[2, -1],[-1, 2]])\n",
        "\n",
        "import numpy as np\n",
        "import matplotlib.pyplot as plt\n",
        "\n",
        "# Define the matrix A\n",
        "A = np.array([[2, -1], [-1, 2]])\n",
        "\n",
        "# Calculate eigenvalues and eigenvectors\n",
        "eigenvalues, eigenvectors = np.linalg.eig(A)\n",
        "\n",
        "# Create a grid of vectors\n",
        "X, Y = np.meshgrid(np.arange(-5, 6), np.arange(-5, 6))\n",
        "grid_vectors = np.vstack([X.flatten(), Y.flatten()])\n",
        "\n",
        "# Apply the transformation\n",
        "transformed_vectors = A @ grid_vectors\n",
        "\n",
        "# Plotting function\n",
        "def plot_vectors(original, transformed, eigenvectors, title):\n",
        "  fig, ax = plt.subplots(figsize=(8, 8))\n",
        "  ax.quiver(*original, *(transformed - original), angles='xy', scale_units='xy', scale=1, color='lightblue', label='Transformed vectors')\n",
        "\n",
        "  # Plot eigenvectors\n",
        "  for vec in eigenvectors.T:\n",
        "    ax.quiver(0, 0, vec[0]*5, vec[1]*5, angles='xy', scale_units='xy', scale=1, linewidth=2, color='red', label='Eigenvectors')\n",
        "\n",
        "  ax.set_xlim(-10, 10)\n",
        "  ax.set_ylim(-10, 10)\n",
        "  ax.axhline(0, color='black', linewidth=0.5)\n",
        "  ax.axvline(0, color='black', linewidth=0.5)\n",
        "  ax.set_aspect('equal', adjustable='box')\n",
        "  ax.set_title(title)\n",
        "  ax.legend(['Transformed vectors', 'Eigenvectors'])\n",
        "  plt.grid()\n",
        "  plt.show()\n",
        "\n",
        "# Visualize original and transformed vectors with eigenvectors\n",
        "plot_vectors(grid_vectors, transformed_vectors, eigenvectors, 'Diagonalization Visualized (Geometric Interpretation)')\n"
      ],
      "metadata": {
        "id": "1Kju5nmJSnto"
      },
      "execution_count": null,
      "outputs": []
    },
    {
      "cell_type": "code",
      "source": [
        "import matplotlib.pyplot as plt\n",
        "import numpy as np\n",
        "\n",
        "# Define the vectors\n",
        "x = np.array([1, 0])\n",
        "Ax = np.array([3, -1])\n",
        "\n",
        "# Create the plot\n",
        "plt.figure(figsize=(6, 6))\n",
        "\n",
        "# Plot the vectors\n",
        "plt.quiver(0, 0, x[0], x[1], angles='xy', scale_units='xy', scale=1, color='r', label='x = (1, 0)')\n",
        "plt.quiver(0, 0, Ax[0], Ax[1], angles='xy', scale_units='xy', scale=1, color='b', label='Ax = (3, -1)')\n",
        "\n",
        "# Set the limits for the plot\n",
        "plt.xlim(-1, 4)\n",
        "plt.ylim(-2, 4)\n",
        "\n",
        "# Add grid, labels, and title\n",
        "plt.axhline(0, color='black',linewidth=0.5)\n",
        "plt.axvline(0, color='black',linewidth=0.5)\n",
        "plt.grid(True)\n",
        "plt.xlabel('X-axis')\n",
        "plt.ylabel('Y-axis')\n",
        "plt.title('Plot of Vectors x and Ax')\n",
        "\n",
        "# Add a legend\n",
        "plt.legend()\n",
        "\n",
        "# Show the plot\n",
        "plt.gca().set_aspect('equal', adjustable='box')\n",
        "plt.show()\n"
      ],
      "metadata": {
        "id": "OhzTFEt6WIXl"
      },
      "execution_count": null,
      "outputs": []
    },
    {
      "cell_type": "code",
      "source": [
        "import matplotlib.pyplot as plt\n",
        "import numpy as np\n",
        "\n",
        "# Define the vectors\n",
        "x = np.array([1, 1])\n",
        "Ax = np.array([2, 2])\n",
        "\n",
        "# Create the plot\n",
        "plt.figure(figsize=(6, 6))\n",
        "\n",
        "# Plot the vectors\n",
        "plt.quiver(0, 0, x[0], x[1], angles='xy', scale_units='xy', scale=1, color='r', label='ξ1 = (1, 1)')\n",
        "plt.quiver(0, 0, Ax[0], Ax[1], angles='xy', scale_units='xy', scale=1, color='b', label='Aξ1 = (2, 2)')\n",
        "\n",
        "# Set the limits for the plot\n",
        "plt.xlim(-1, 4)\n",
        "plt.ylim(-2, 4)\n",
        "\n",
        "# Add grid, labels, and title\n",
        "plt.axhline(0, color='black',linewidth=0.5)\n",
        "plt.axvline(0, color='black',linewidth=0.5)\n",
        "plt.grid(True)\n",
        "plt.xlabel('X-axis')\n",
        "plt.ylabel('Y-axis')\n",
        "plt.title('Plot of Vectors ξ1 and Aξ1')\n",
        "\n",
        "# Add a legend\n",
        "plt.legend()\n",
        "\n",
        "# Show the plot\n",
        "plt.gca().set_aspect('equal', adjustable='box')\n",
        "plt.show()\n"
      ],
      "metadata": {
        "id": "j7Gze8SLfetb"
      },
      "execution_count": null,
      "outputs": []
    },
    {
      "cell_type": "code",
      "source": [],
      "metadata": {
        "id": "lRao9Swvigen"
      },
      "execution_count": null,
      "outputs": []
    }
  ]
}